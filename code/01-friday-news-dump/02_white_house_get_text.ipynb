{
 "cells": [
  {
   "cell_type": "code",
   "execution_count": 1,
   "metadata": {},
   "outputs": [],
   "source": [
    "import pandas as pd\n",
    "\n",
    "from bs4 import BeautifulSoup"
   ]
  },
  {
   "cell_type": "code",
   "execution_count": 3,
   "metadata": {},
   "outputs": [
    {
     "data": {
      "text/html": [
       "<div>\n",
       "<style scoped>\n",
       "    .dataframe tbody tr th:only-of-type {\n",
       "        vertical-align: middle;\n",
       "    }\n",
       "\n",
       "    .dataframe tbody tr th {\n",
       "        vertical-align: top;\n",
       "    }\n",
       "\n",
       "    .dataframe thead th {\n",
       "        text-align: right;\n",
       "    }\n",
       "</style>\n",
       "<table border=\"1\" class=\"dataframe\">\n",
       "  <thead>\n",
       "    <tr style=\"text-align: right;\">\n",
       "      <th></th>\n",
       "      <th>issue</th>\n",
       "      <th>time</th>\n",
       "      <th>title</th>\n",
       "      <th>type</th>\n",
       "      <th>url</th>\n",
       "      <th>weekday</th>\n",
       "    </tr>\n",
       "  </thead>\n",
       "  <tbody>\n",
       "    <tr>\n",
       "      <th>0</th>\n",
       "      <td>LAND &amp; AGRICULTURE</td>\n",
       "      <td>Jul 6, 2018</td>\n",
       "      <td>President Donald J. Trump Approves Texas Disas...</td>\n",
       "      <td>STATEMENTS &amp; RELEASES</td>\n",
       "      <td>https://www.whitehouse.gov/briefings-statement...</td>\n",
       "      <td>Friday</td>\n",
       "    </tr>\n",
       "    <tr>\n",
       "      <th>1</th>\n",
       "      <td>IMMIGRATION</td>\n",
       "      <td>Jul 6, 2018</td>\n",
       "      <td>Remarks by Vice President Pence at U.S. Immigr...</td>\n",
       "      <td>REMARKS</td>\n",
       "      <td>https://www.whitehouse.gov/briefings-statement...</td>\n",
       "      <td>Friday</td>\n",
       "    </tr>\n",
       "    <tr>\n",
       "      <th>2</th>\n",
       "      <td>ECONOMY &amp; JOBS</td>\n",
       "      <td>Jul 6, 2018</td>\n",
       "      <td>Jobs, Jobs, Jobs: The American Economy Is Booming</td>\n",
       "      <td>NEWS CLIPS</td>\n",
       "      <td>https://www.whitehouse.gov/briefings-statement...</td>\n",
       "      <td>Friday</td>\n",
       "    </tr>\n",
       "    <tr>\n",
       "      <th>3</th>\n",
       "      <td>INFRASTRUCTURE &amp; TECHNOLOGY</td>\n",
       "      <td>Jul 6, 2018</td>\n",
       "      <td>Presidential Message on National Air Traffic C...</td>\n",
       "      <td>STATEMENTS &amp; RELEASES</td>\n",
       "      <td>https://www.whitehouse.gov/briefings-statement...</td>\n",
       "      <td>Friday</td>\n",
       "    </tr>\n",
       "    <tr>\n",
       "      <th>4</th>\n",
       "      <td>FOREIGN POLICY</td>\n",
       "      <td>Jul 5, 2018</td>\n",
       "      <td>Readout of the Vice President’s Call with Mace...</td>\n",
       "      <td>STATEMENTS &amp; RELEASES</td>\n",
       "      <td>https://www.whitehouse.gov/briefings-statement...</td>\n",
       "      <td>Thursday</td>\n",
       "    </tr>\n",
       "  </tbody>\n",
       "</table>\n",
       "</div>"
      ],
      "text/plain": [
       "                         issue         time  \\\n",
       "0           LAND & AGRICULTURE  Jul 6, 2018   \n",
       "1                  IMMIGRATION  Jul 6, 2018   \n",
       "2               ECONOMY & JOBS  Jul 6, 2018   \n",
       "3  INFRASTRUCTURE & TECHNOLOGY  Jul 6, 2018   \n",
       "4               FOREIGN POLICY  Jul 5, 2018   \n",
       "\n",
       "                                               title                   type  \\\n",
       "0  President Donald J. Trump Approves Texas Disas...  STATEMENTS & RELEASES   \n",
       "1  Remarks by Vice President Pence at U.S. Immigr...                REMARKS   \n",
       "2  Jobs, Jobs, Jobs: The American Economy Is Booming             NEWS CLIPS   \n",
       "3  Presidential Message on National Air Traffic C...  STATEMENTS & RELEASES   \n",
       "4  Readout of the Vice President’s Call with Mace...  STATEMENTS & RELEASES   \n",
       "\n",
       "                                                 url   weekday  \n",
       "0  https://www.whitehouse.gov/briefings-statement...    Friday  \n",
       "1  https://www.whitehouse.gov/briefings-statement...    Friday  \n",
       "2  https://www.whitehouse.gov/briefings-statement...    Friday  \n",
       "3  https://www.whitehouse.gov/briefings-statement...    Friday  \n",
       "4  https://www.whitehouse.gov/briefings-statement...  Thursday  "
      ]
     },
     "execution_count": 3,
     "metadata": {},
     "output_type": "execute_result"
    }
   ],
   "source": [
    "df = pd.read_csv(\"wh_briefings.csv\")\n",
    "df.head()"
   ]
  },
  {
   "cell_type": "code",
   "execution_count": 5,
   "metadata": {},
   "outputs": [
    {
     "data": {
      "text/plain": [
       "FOREIGN POLICY                 184\n",
       "not found                      164\n",
       "ECONOMY & JOBS                  48\n",
       "LAND & AGRICULTURE              48\n",
       "BUDGET & SPENDING               37\n",
       "LAW & JUSTICE                   32\n",
       "HEALTHCARE                      26\n",
       "NATIONAL SECURITY & DEFENSE     25\n",
       "INFRASTRUCTURE & TECHNOLOGY     17\n",
       "IMMIGRATION                     17\n",
       "VETERANS                        10\n",
       "EDUCATION                        3\n",
       "ENERGY & ENVIRONMENT             2\n",
       "Name: issue, dtype: int64"
      ]
     },
     "execution_count": 5,
     "metadata": {},
     "output_type": "execute_result"
    }
   ],
   "source": [
    "df[df.weekday == \"Friday\"].issue.value_counts()"
   ]
  },
  {
   "cell_type": "code",
   "execution_count": null,
   "metadata": {},
   "outputs": [],
   "source": [
    "def get_text(row):\n",
    "    "
   ]
  },
  {
   "cell_type": "code",
   "execution_count": null,
   "metadata": {},
   "outputs": [],
   "source": []
  }
 ],
 "metadata": {
  "kernelspec": {
   "display_name": "Python 3",
   "language": "python",
   "name": "python3"
  },
  "language_info": {
   "codemirror_mode": {
    "name": "ipython",
    "version": 3
   },
   "file_extension": ".py",
   "mimetype": "text/x-python",
   "name": "python",
   "nbconvert_exporter": "python",
   "pygments_lexer": "ipython3",
   "version": "3.6.5"
  }
 },
 "nbformat": 4,
 "nbformat_minor": 2
}
