{
 "cells": [
  {
   "cell_type": "code",
   "execution_count": 1,
   "metadata": {},
   "outputs": [
    {
     "name": "stdout",
     "output_type": "stream",
     "text": [
      "[nltk_data] Downloading package stopwords to\n",
      "[nltk_data]     C:\\Users\\weihu\\AppData\\Roaming\\nltk_data...\n",
      "[nltk_data]   Package stopwords is already up-to-date!\n"
     ]
    }
   ],
   "source": [
    "import pandas as pd\n",
    "pd.set_option('display.max_rows', 500)\n",
    "pd.set_option('display.max_columns', 500)\n",
    "pd.set_option('display.width', 1000)\n",
    "pd.set_option(\"display.max_colwidth\", 1000)\n",
    "\n",
    "import re\n",
    "\n",
    "import nltk\n",
    "nltk.download('stopwords')\n",
    "  \n",
    "from nltk.corpus import stopwords\n"
   ]
  },
  {
   "cell_type": "code",
   "execution_count": 2,
   "metadata": {},
   "outputs": [
    {
     "data": {
      "text/html": [
       "<div>\n",
       "<style scoped>\n",
       "    .dataframe tbody tr th:only-of-type {\n",
       "        vertical-align: middle;\n",
       "    }\n",
       "\n",
       "    .dataframe tbody tr th {\n",
       "        vertical-align: top;\n",
       "    }\n",
       "\n",
       "    .dataframe thead th {\n",
       "        text-align: right;\n",
       "    }\n",
       "</style>\n",
       "<table border=\"1\" class=\"dataframe\">\n",
       "  <thead>\n",
       "    <tr style=\"text-align: right;\">\n",
       "      <th></th>\n",
       "      <th>advisor</th>\n",
       "      <th>author</th>\n",
       "      <th>project_format</th>\n",
       "      <th>title</th>\n",
       "      <th>year</th>\n",
       "    </tr>\n",
       "  </thead>\n",
       "  <tbody>\n",
       "    <tr>\n",
       "      <th>0</th>\n",
       "      <td>BELFORD, BARBARA</td>\n",
       "      <td>AARON, KENNETH</td>\n",
       "      <td>PRINT</td>\n",
       "      <td>THE DECLINE OF THE GARMENT DISTRICT</td>\n",
       "      <td>1995</td>\n",
       "    </tr>\n",
       "    <tr>\n",
       "      <th>1</th>\n",
       "      <td>ROSENBLATT, ROGER</td>\n",
       "      <td>AGEE, AMANDA</td>\n",
       "      <td>PRINT</td>\n",
       "      <td>WOMEN BEHIND BARS</td>\n",
       "      <td>1995</td>\n",
       "    </tr>\n",
       "    <tr>\n",
       "      <th>2</th>\n",
       "      <td>SVOBODA, WAYNE</td>\n",
       "      <td>ALMEIDA, MIGUEL F.</td>\n",
       "      <td>PRINT</td>\n",
       "      <td>BRAZUCAS IN NEW YORK, THE STRUGGLES OF A FRAGMENTED BRAZILIAN COMMUNITY</td>\n",
       "      <td>1995</td>\n",
       "    </tr>\n",
       "    <tr>\n",
       "      <th>3</th>\n",
       "      <td>HOYT, MICHAEL</td>\n",
       "      <td>AMES,BENJAMIN</td>\n",
       "      <td>PRINT</td>\n",
       "      <td>THE PRIVATIZATION OF SERVICES IN NEW YORK CITY PARKS, A CASE STUDY IN QUEENS</td>\n",
       "      <td>1995</td>\n",
       "    </tr>\n",
       "    <tr>\n",
       "      <th>4</th>\n",
       "      <td>SHIPP, E. R.</td>\n",
       "      <td>AMIN, RULA</td>\n",
       "      <td>PRINT</td>\n",
       "      <td>PALESTINIAN AMERICANS AND THE PEACE TALKS</td>\n",
       "      <td>1995</td>\n",
       "    </tr>\n",
       "  </tbody>\n",
       "</table>\n",
       "</div>"
      ],
      "text/plain": [
       "              advisor               author project_format                                                                          title  year\n",
       "0    BELFORD, BARBARA       AARON, KENNETH          PRINT                                            THE DECLINE OF THE GARMENT DISTRICT  1995\n",
       "1   ROSENBLATT, ROGER         AGEE, AMANDA          PRINT                                                              WOMEN BEHIND BARS  1995\n",
       "2      SVOBODA, WAYNE   ALMEIDA, MIGUEL F.          PRINT        BRAZUCAS IN NEW YORK, THE STRUGGLES OF A FRAGMENTED BRAZILIAN COMMUNITY  1995\n",
       "3       HOYT, MICHAEL        AMES,BENJAMIN          PRINT   THE PRIVATIZATION OF SERVICES IN NEW YORK CITY PARKS, A CASE STUDY IN QUEENS  1995\n",
       "4        SHIPP, E. R.           AMIN, RULA          PRINT                                      PALESTINIAN AMERICANS AND THE PEACE TALKS  1995"
      ]
     },
     "execution_count": 2,
     "metadata": {},
     "output_type": "execute_result"
    }
   ],
   "source": [
    "df = pd.read_csv(\"data/all_projects.csv\")\n",
    "df.head()"
   ]
  },
  {
   "cell_type": "code",
   "execution_count": 3,
   "metadata": {},
   "outputs": [
    {
     "data": {
      "text/plain": [
       "(5414, 5)"
      ]
     },
     "execution_count": 3,
     "metadata": {},
     "output_type": "execute_result"
    }
   ],
   "source": [
    "df.shape"
   ]
  },
  {
   "cell_type": "code",
   "execution_count": 4,
   "metadata": {},
   "outputs": [
    {
     "data": {
      "text/plain": [
       "advisor           object\n",
       "author            object\n",
       "project_format    object\n",
       "title             object\n",
       "year               int64\n",
       "dtype: object"
      ]
     },
     "execution_count": 4,
     "metadata": {},
     "output_type": "execute_result"
    }
   ],
   "source": [
    "df.dtypes"
   ]
  },
  {
   "cell_type": "code",
   "execution_count": 5,
   "metadata": {},
   "outputs": [],
   "source": [
    "df[\"advisor\"] = df[\"advisor\"].str.title()\n",
    "df[\"author\"] = df[\"author\"].str.title()\n",
    "df[\"project_format\"] = df[\"project_format\"].str.title()\n",
    "df[\"title\"] = df[\"title\"].str.title()"
   ]
  },
  {
   "cell_type": "code",
   "execution_count": 6,
   "metadata": {},
   "outputs": [],
   "source": [
    "df[\"advisor\"] = df[\"advisor\"].str.strip()\n",
    "df[\"author\"] = df[\"author\"].str.strip()\n",
    "df[\"project_format\"] = df[\"project_format\"].str.strip()\n",
    "df[\"title\"] = df[\"title\"].str.strip()"
   ]
  },
  {
   "cell_type": "code",
   "execution_count": 19,
   "metadata": {},
   "outputs": [],
   "source": [
    "df[\"title_word_count\"] = df[\"title\"].apply(lambda x: len(str(x).split(\" \")))\n",
    "# df[\"title_word_count\"].value_counts()"
   ]
  },
  {
   "cell_type": "code",
   "execution_count": 20,
   "metadata": {},
   "outputs": [],
   "source": [
    "# df[df[\"title_word_count\"] == 51]"
   ]
  },
  {
   "cell_type": "code",
   "execution_count": 9,
   "metadata": {},
   "outputs": [],
   "source": [
    "df[\"title_clean\"] = df[\"title\"].str.lower().astype(str)"
   ]
  },
  {
   "cell_type": "code",
   "execution_count": 10,
   "metadata": {},
   "outputs": [],
   "source": [
    "df[\"title_clean\"] = df[\"title_clean\"].str.replace('[^\\w\\s]','')"
   ]
  },
  {
   "cell_type": "code",
   "execution_count": 11,
   "metadata": {},
   "outputs": [],
   "source": [
    "stop = stopwords.words('english')\n",
    "stop.append('new')\n",
    "stop.append('york')\n",
    "stop.append('city')\n",
    "stop.append('yorks')\n",
    "stop.append('citys')"
   ]
  },
  {
   "cell_type": "code",
   "execution_count": 12,
   "metadata": {},
   "outputs": [
    {
     "data": {
      "text/plain": [
       "0                             decline garment district\n",
       "1                                    women behind bars\n",
       "2    brazucas struggles fragmented brazilian community\n",
       "3       privatization services parks case study queens\n",
       "4                    palestinian americans peace talks\n",
       "Name: title_clean, dtype: object"
      ]
     },
     "execution_count": 12,
     "metadata": {},
     "output_type": "execute_result"
    }
   ],
   "source": [
    "df[\"title_clean\"] = df[\"title_clean\"].apply(lambda x: \" \".join(x for x in x.split() if x not in stop))\n",
    "df[\"title_clean\"].head()"
   ]
  },
  {
   "cell_type": "code",
   "execution_count": 13,
   "metadata": {},
   "outputs": [],
   "source": [
    "freq = pd.Series(' '.join(df[df.year == 1997][\"title_clean\"]).split()).value_counts()[:10000].reset_index()"
   ]
  },
  {
   "cell_type": "code",
   "execution_count": 14,
   "metadata": {},
   "outputs": [],
   "source": [
    "df_freq_year = pd.DataFrame()\n",
    "for i in range(1995, 2018):\n",
    "    freq = pd.Series(' '.join(df[df.year == i][\"title_clean\"]).split()).value_counts()[:10000].reset_index()\n",
    "    column_name = str(i) + \"_count\"\n",
    "    year_name = str(i) + \"_year\"\n",
    "    freq.rename(columns = {\"index\" : year_name, 0 : column_name}, inplace = True)\n",
    "    df_freq_year = pd.concat([df_freq_year, freq], axis = 1, sort = False)\n",
    "\n",
    "df_freq_year.to_csv(\"data/word_freq_year.csv\", index = False)"
   ]
  },
  {
   "cell_type": "code",
   "execution_count": 15,
   "metadata": {},
   "outputs": [],
   "source": [
    "df_freq_total = pd.Series(' '.join(df[\"title_clean\"]).split()).value_counts().reset_index()\n",
    "df_freq_total.to_csv(\"data/word_freq_total.csv\", index = False)"
   ]
  },
  {
   "cell_type": "code",
   "execution_count": 18,
   "metadata": {},
   "outputs": [],
   "source": [
    "# df_freq_year"
   ]
  },
  {
   "cell_type": "code",
   "execution_count": 17,
   "metadata": {},
   "outputs": [],
   "source": [
    "df_freq_long = pd.DataFrame()\n",
    "for i in range(1995, 2018):\n",
    "    freq = pd.Series(' '.join(df[df.year == i][\"title_clean\"]).split()).value_counts()[:20].reset_index()\n",
    "    freq[\"year\"] = i\n",
    "    \n",
    "    df_freq_long = df_freq_long.append(freq, ignore_index = True, sort = False)\n",
    "\n",
    "\n",
    "df_freq_long.rename(columns = {\"index\" : \"word\", 0 : \"count\", \"year\" : \"year\"}, inplace = True)\n",
    "\n",
    "df_freq_long.to_csv(\"data/word_freq_long.csv\", index = False)"
   ]
  }
 ],
 "metadata": {
  "kernelspec": {
   "display_name": "Python 3",
   "language": "python",
   "name": "python3"
  },
  "language_info": {
   "codemirror_mode": {
    "name": "ipython",
    "version": 3
   },
   "file_extension": ".py",
   "mimetype": "text/x-python",
   "name": "python",
   "nbconvert_exporter": "python",
   "pygments_lexer": "ipython3",
   "version": "3.6.5"
  }
 },
 "nbformat": 4,
 "nbformat_minor": 2
}
