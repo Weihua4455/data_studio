{
 "cells": [
  {
   "cell_type": "code",
   "execution_count": 228,
   "metadata": {},
   "outputs": [],
   "source": [
    "import pandas as pd\n",
    "pd.set_option('display.width', 1000)\n",
    "\n",
    "\n",
    "from bs4 import BeautifulSoup\n",
    "import requests\n",
    "\n",
    "import re"
   ]
  },
  {
   "cell_type": "markdown",
   "metadata": {},
   "source": [
    "## 1) get links to all M.S. thesis"
   ]
  },
  {
   "cell_type": "code",
   "execution_count": 49,
   "metadata": {},
   "outputs": [],
   "source": [
    "raw_html = requests.get(\"https://library.columbia.edu/locations/journalism/masters.html\").content\n",
    "soup = BeautifulSoup(raw_html, \"html.parser\")\n",
    "links = soup.find_all(\"ul\",attrs={\"class\": \"dropdown-menu\"})[6].find_all(\"a\", href=True)"
   ]
  },
  {
   "cell_type": "code",
   "execution_count": 54,
   "metadata": {},
   "outputs": [],
   "source": [
    "year = 1995\n",
    "link_list = []\n",
    "\n",
    "for link in links:\n",
    "    link_dict = {}\n",
    "    \n",
    "    url = \"https://library.columbia.edu/\" + link[\"href\"]\n",
    "    link_dict.update({\n",
    "            \"year\" : year,\n",
    "            \"url\" : url,\n",
    "        })\n",
    "    link_list.append(link_dict)\n",
    "    \n",
    "    year = year + 1"
   ]
  },
  {
   "cell_type": "code",
   "execution_count": 56,
   "metadata": {},
   "outputs": [],
   "source": [
    "df_link = pd.DataFrame(link_list)"
   ]
  },
  {
   "cell_type": "code",
   "execution_count": 59,
   "metadata": {},
   "outputs": [],
   "source": [
    "df_link.to_csv(\"master_project_links.csv\", index = False)"
   ]
  },
  {
   "cell_type": "markdown",
   "metadata": {},
   "source": [
    "## 2) scrape content, clean it, add into dictionary and list, turn into dataframe"
   ]
  },
  {
   "cell_type": "code",
   "execution_count": 539,
   "metadata": {},
   "outputs": [],
   "source": [
    "## 2017\n",
    "\n",
    "def get_2017(url):\n",
    "    info_list = []\n",
    "    raw_html = requests.get(\"https://library.columbia.edu/locations/journalism/masters/2017MastersProjects.html\").content\n",
    "    soup = BeautifulSoup(raw_html, \"html.parser\")\n",
    "    everything = soup.find(\"div\", attrs = {\"id\" : \"primary\"}).find_all(\"p\")\n",
    "    for thing in everything[1:]:\n",
    "        info = thing.text\n",
    "        info_dict = {}\n",
    "\n",
    "        if \"AUTHOR:\" in info:\n",
    "            author = re.findall(\"Author:(.*)\", info, re.IGNORECASE)[0]\n",
    "        elif \"TITLE:\" in info:\n",
    "            title = re.findall(\"Title:(.*)\", info, re.IGNORECASE)[0]\n",
    "        elif \"ADVISOR:\" in info:\n",
    "            advisor = re.findall(\"Advisor:(.*)\", info, re.IGNORECASE)[0]\n",
    "        elif \"FORMAT:\" in info:    \n",
    "            format_ = re.findall(\"Format:(.*)\", info, re.IGNORECASE)[0]\n",
    "\n",
    "            info_dict.update({\n",
    "                \"author\" : author,\n",
    "                \"title\" : title,\n",
    "                \"advisor\" : advisor,\n",
    "                \"project_format\" : format_\n",
    "\n",
    "            })\n",
    "            info_list.append(info_dict)\n",
    "\n",
    "    return info_list"
   ]
  },
  {
   "cell_type": "code",
   "execution_count": 398,
   "metadata": {},
   "outputs": [],
   "source": [
    "## 1995 - 2012\n",
    "def get_1995_2011(url):\n",
    "\n",
    "    info_list = []\n",
    "    raw_html = requests.get(url).content\n",
    "    soup = BeautifulSoup(raw_html, \"html.parser\")\n",
    "    everything = soup.find_all(\"div\", attrs = {\"class\" : \"cul-text\" })\n",
    "    for thing in everything[1:]:\n",
    "        all_info = thing.text.split(\"\\n\\n\")\n",
    "        for info in all_info:\n",
    "            info_dict = {}\n",
    "            try:\n",
    "                try:\n",
    "                    author = re.findall(\"Author:(.*)\", info)[0]\n",
    "                except:\n",
    "                    author = re.findall(\"Authors:(.*)\", info)[0]\n",
    "                title = re.findall(\"Title:(.*)\", info)[0]\n",
    "                advisor = re.findall(\"Advisor:(.*)\", info)[0]\n",
    "\n",
    "                format_ = re.findall(\"Format:(.*)\", info)[0]\n",
    "\n",
    "\n",
    "                info_dict.update({\n",
    "                    \"author\" : author,\n",
    "                    \"title\" : title,\n",
    "                    \"advisor\" : advisor,\n",
    "                    \"project_format\" : format_\n",
    "\n",
    "                })\n",
    "\n",
    "                info_list.append(info_dict)\n",
    "\n",
    "            except:\n",
    "                pass\n",
    "\n",
    "    return info_list"
   ]
  },
  {
   "cell_type": "code",
   "execution_count": 540,
   "metadata": {},
   "outputs": [],
   "source": [
    "## 2012 - 2016\n",
    "def get_2012_2016(url):\n",
    "    info_list = []\n",
    "    raw_html = requests.get(url).content\n",
    "    soup = BeautifulSoup(raw_html, \"html.parser\")\n",
    "    everything = soup.find(\"div\", attrs = {\"id\" : \"primary\"}).find_all(\"p\")\n",
    "    for thing in everything:\n",
    "        info = thing.text\n",
    "        info_dict = {}\n",
    "\n",
    "\n",
    "        try:\n",
    "            author = re.findall(\"Author:(.*)\", info, re.IGNORECASE)[0]\n",
    "        except:\n",
    "            pass\n",
    "        try:\n",
    "            title = re.findall(\"Title:(.*)\", info, re.IGNORECASE)[0]\n",
    "        except:\n",
    "            pass\n",
    "        try:\n",
    "            advisor = re.findall(\"Advisor:(.*)\", info, re.IGNORECASE)[0]\n",
    "        except:\n",
    "            pass\n",
    "        try:\n",
    "            format_ = re.findall(\"Format:(.*)\", info, re.IGNORECASE)[0]\n",
    "        except:\n",
    "            pass\n",
    "\n",
    "        try:\n",
    "            info_dict.update({\n",
    "                \"author\" : author,\n",
    "                \"title\" : title,\n",
    "                \"advisor\" : advisor,\n",
    "                \"project_format\" : format_\n",
    "\n",
    "            })\n",
    "            info_list.append(info_dict)\n",
    "\n",
    "        except:\n",
    "            pass\n",
    "\n",
    "    return info_list\n"
   ]
  },
  {
   "cell_type": "code",
   "execution_count": 544,
   "metadata": {},
   "outputs": [],
   "source": [
    "def get_dfs_test(row):\n",
    "    if row[\"year\"] == 2017:\n",
    "        print(row[\"year\"])\n",
    "        df_temp = pd.DataFrame(get_2017(row[\"url\"]))\n",
    "        df_temp[\"year\"] = row[\"year\"]\n",
    "        csv_name = \"masters_project_\" + str(row[\"year\"]) + \".csv\"\n",
    "        df_temp.to_csv(csv_name, index = False)\n",
    "        print(df_temp.shape)\n",
    "        print(\"\")     \n",
    "    elif row[\"year\"] == 2009 or row[\"year\"] > 2011:\n",
    "        print(row[\"year\"])\n",
    "        df_temp = pd.DataFrame(get_2012_2016(row[\"url\"]))\n",
    "        df_temp[\"year\"] = row[\"year\"]\n",
    "        csv_name = \"masters_project_\" + str(row[\"year\"]) + \".csv\"\n",
    "        df_temp.to_csv(csv_name, index = False)\n",
    "        print(df_temp.shape)\n",
    "        print(\"\")        \n",
    "        \n",
    "    elif row[\"year\"] < 2012:\n",
    "        print(row[\"year\"])\n",
    "        df_temp = pd.DataFrame(get_1995_2011(row[\"url\"]))\n",
    "        df_temp[\"year\"] = row[\"year\"]\n",
    "        csv_name = \"masters_project_\" + str(row[\"year\"]) + \".csv\"\n",
    "        df_temp.to_csv(csv_name, index = False)\n",
    "        print(df_temp.shape)\n",
    "        print(\"\")\n",
    "        "
   ]
  },
  {
   "cell_type": "code",
   "execution_count": 545,
   "metadata": {},
   "outputs": [
    {
     "name": "stdout",
     "output_type": "stream",
     "text": [
      "1995\n",
      "(182, 5)\n",
      "\n",
      "1996\n",
      "(184, 5)\n",
      "\n",
      "1997\n",
      "(210, 5)\n",
      "\n",
      "1998\n",
      "(258, 5)\n",
      "\n",
      "1999\n",
      "(238, 5)\n",
      "\n",
      "2000\n",
      "(239, 5)\n",
      "\n",
      "2001\n",
      "(249, 5)\n",
      "\n",
      "2002\n",
      "(253, 5)\n",
      "\n",
      "2003\n",
      "(261, 5)\n",
      "\n",
      "2004\n",
      "(233, 5)\n",
      "\n",
      "2005\n",
      "(252, 5)\n",
      "\n",
      "2006\n",
      "(250, 5)\n",
      "\n",
      "2007\n",
      "(250, 5)\n",
      "\n",
      "2008\n",
      "(270, 5)\n",
      "\n",
      "2009\n",
      "(218, 5)\n",
      "\n",
      "2010\n",
      "(247, 5)\n",
      "\n",
      "2011\n",
      "(184, 5)\n",
      "\n",
      "2012\n",
      "(294, 5)\n",
      "\n",
      "2013\n",
      "(266, 5)\n",
      "\n",
      "2014\n",
      "(215, 5)\n",
      "\n",
      "2015\n",
      "(240, 5)\n",
      "\n",
      "2016\n",
      "(197, 5)\n",
      "\n",
      "2017\n",
      "(224, 5)\n",
      "\n"
     ]
    },
    {
     "data": {
      "text/plain": [
       "0     None\n",
       "1     None\n",
       "2     None\n",
       "3     None\n",
       "4     None\n",
       "5     None\n",
       "6     None\n",
       "7     None\n",
       "8     None\n",
       "9     None\n",
       "10    None\n",
       "11    None\n",
       "12    None\n",
       "13    None\n",
       "14    None\n",
       "15    None\n",
       "16    None\n",
       "17    None\n",
       "18    None\n",
       "19    None\n",
       "20    None\n",
       "21    None\n",
       "22    None\n",
       "dtype: object"
      ]
     },
     "execution_count": 545,
     "metadata": {},
     "output_type": "execute_result"
    }
   ],
   "source": [
    "df_link.apply(get_dfs_test, axis=1)"
   ]
  },
  {
   "cell_type": "markdown",
   "metadata": {},
   "source": [
    "## Now merge all csv"
   ]
  },
  {
   "cell_type": "code",
   "execution_count": 546,
   "metadata": {},
   "outputs": [],
   "source": [
    "import glob"
   ]
  },
  {
   "cell_type": "code",
   "execution_count": 548,
   "metadata": {},
   "outputs": [],
   "source": [
    "df_all = pd.concat([pd.read_csv(f) for f in glob.glob('masters_project_*.csv')], ignore_index = True)"
   ]
  },
  {
   "cell_type": "code",
   "execution_count": 2,
   "metadata": {},
   "outputs": [],
   "source": [
    "# df_all.shape"
   ]
  },
  {
   "cell_type": "code",
   "execution_count": 1,
   "metadata": {},
   "outputs": [],
   "source": [
    "# df_all.head()"
   ]
  }
 ],
 "metadata": {
  "kernelspec": {
   "display_name": "Python 3",
   "language": "python",
   "name": "python3"
  },
  "language_info": {
   "codemirror_mode": {
    "name": "ipython",
    "version": 3
   },
   "file_extension": ".py",
   "mimetype": "text/x-python",
   "name": "python",
   "nbconvert_exporter": "python",
   "pygments_lexer": "ipython3",
   "version": "3.6.5"
  }
 },
 "nbformat": 4,
 "nbformat_minor": 2
}
