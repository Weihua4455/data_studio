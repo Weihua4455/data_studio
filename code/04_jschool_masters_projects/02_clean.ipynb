{
 "cells": [
  {
   "cell_type": "code",
   "execution_count": 34,
   "metadata": {},
   "outputs": [
    {
     "name": "stdout",
     "output_type": "stream",
     "text": [
      "[nltk_data] Downloading package stopwords to\n",
      "[nltk_data]     C:\\Users\\Weihua\\AppData\\Roaming\\nltk_data...\n",
      "[nltk_data]   Unzipping corpora\\stopwords.zip.\n"
     ]
    }
   ],
   "source": [
    "import pandas as pd\n",
    "pd.set_option('display.max_rows', 500)\n",
    "pd.set_option('display.max_columns', 500)\n",
    "pd.set_option('display.width', 1000)\n",
    "pd.set_option(\"display.max_colwidth\", 1000)\n",
    "\n",
    "import re\n",
    "\n",
    "import nltk\n",
    "nltk.download('stopwords')\n",
    "  \n",
    "from nltk.corpus import stopwords\n"
   ]
  },
  {
   "cell_type": "code",
   "execution_count": 2,
   "metadata": {},
   "outputs": [
    {
     "data": {
      "text/html": [
       "<div>\n",
       "<style scoped>\n",
       "    .dataframe tbody tr th:only-of-type {\n",
       "        vertical-align: middle;\n",
       "    }\n",
       "\n",
       "    .dataframe tbody tr th {\n",
       "        vertical-align: top;\n",
       "    }\n",
       "\n",
       "    .dataframe thead th {\n",
       "        text-align: right;\n",
       "    }\n",
       "</style>\n",
       "<table border=\"1\" class=\"dataframe\">\n",
       "  <thead>\n",
       "    <tr style=\"text-align: right;\">\n",
       "      <th></th>\n",
       "      <th>advisor</th>\n",
       "      <th>author</th>\n",
       "      <th>project_format</th>\n",
       "      <th>title</th>\n",
       "      <th>year</th>\n",
       "    </tr>\n",
       "  </thead>\n",
       "  <tbody>\n",
       "    <tr>\n",
       "      <th>0</th>\n",
       "      <td>BELFORD, BARBARA</td>\n",
       "      <td>AARON, KENNETH</td>\n",
       "      <td>PRINT</td>\n",
       "      <td>THE DECLINE OF THE GARMENT DISTRICT</td>\n",
       "      <td>1995</td>\n",
       "    </tr>\n",
       "    <tr>\n",
       "      <th>1</th>\n",
       "      <td>ROSENBLATT, ROGER</td>\n",
       "      <td>AGEE, AMANDA</td>\n",
       "      <td>PRINT</td>\n",
       "      <td>WOMEN BEHIND BARS</td>\n",
       "      <td>1995</td>\n",
       "    </tr>\n",
       "    <tr>\n",
       "      <th>2</th>\n",
       "      <td>SVOBODA, WAYNE</td>\n",
       "      <td>ALMEIDA, MIGUEL F.</td>\n",
       "      <td>PRINT</td>\n",
       "      <td>BRAZUCAS IN NEW YORK, THE STRUGGLES OF A FRAG...</td>\n",
       "      <td>1995</td>\n",
       "    </tr>\n",
       "    <tr>\n",
       "      <th>3</th>\n",
       "      <td>HOYT, MICHAEL</td>\n",
       "      <td>AMES,BENJAMIN</td>\n",
       "      <td>PRINT</td>\n",
       "      <td>THE PRIVATIZATION OF SERVICES IN NEW YORK CIT...</td>\n",
       "      <td>1995</td>\n",
       "    </tr>\n",
       "    <tr>\n",
       "      <th>4</th>\n",
       "      <td>SHIPP, E. R.</td>\n",
       "      <td>AMIN, RULA</td>\n",
       "      <td>PRINT</td>\n",
       "      <td>PALESTINIAN AMERICANS AND THE PEACE TALKS</td>\n",
       "      <td>1995</td>\n",
       "    </tr>\n",
       "  </tbody>\n",
       "</table>\n",
       "</div>"
      ],
      "text/plain": [
       "              advisor               author project_format                                              title  year\n",
       "0    BELFORD, BARBARA       AARON, KENNETH          PRINT                THE DECLINE OF THE GARMENT DISTRICT  1995\n",
       "1   ROSENBLATT, ROGER         AGEE, AMANDA          PRINT                                  WOMEN BEHIND BARS  1995\n",
       "2      SVOBODA, WAYNE   ALMEIDA, MIGUEL F.          PRINT   BRAZUCAS IN NEW YORK, THE STRUGGLES OF A FRAG...  1995\n",
       "3       HOYT, MICHAEL        AMES,BENJAMIN          PRINT   THE PRIVATIZATION OF SERVICES IN NEW YORK CIT...  1995\n",
       "4        SHIPP, E. R.           AMIN, RULA          PRINT          PALESTINIAN AMERICANS AND THE PEACE TALKS  1995"
      ]
     },
     "execution_count": 2,
     "metadata": {},
     "output_type": "execute_result"
    }
   ],
   "source": [
    "df = pd.read_csv(\"all_projects.csv\")\n",
    "df.head()"
   ]
  },
  {
   "cell_type": "code",
   "execution_count": 3,
   "metadata": {},
   "outputs": [
    {
     "data": {
      "text/plain": [
       "(5414, 5)"
      ]
     },
     "execution_count": 3,
     "metadata": {},
     "output_type": "execute_result"
    }
   ],
   "source": [
    "df.shape"
   ]
  },
  {
   "cell_type": "code",
   "execution_count": 4,
   "metadata": {},
   "outputs": [
    {
     "data": {
      "text/plain": [
       "advisor           object\n",
       "author            object\n",
       "project_format    object\n",
       "title             object\n",
       "year               int64\n",
       "dtype: object"
      ]
     },
     "execution_count": 4,
     "metadata": {},
     "output_type": "execute_result"
    }
   ],
   "source": [
    "df.dtypes"
   ]
  },
  {
   "cell_type": "code",
   "execution_count": 10,
   "metadata": {},
   "outputs": [],
   "source": [
    "df[\"advisor\"] = df[\"advisor\"].str.title()\n",
    "df[\"author\"] = df[\"author\"].str.title()\n",
    "df[\"project_format\"] = df[\"project_format\"].str.title()\n",
    "df[\"title\"] = df[\"title\"].str.title()"
   ]
  },
  {
   "cell_type": "code",
   "execution_count": 13,
   "metadata": {},
   "outputs": [],
   "source": [
    "df[\"advisor\"] = df[\"advisor\"].str.strip()\n",
    "df[\"author\"] = df[\"author\"].str.strip()\n",
    "df[\"project_format\"] = df[\"project_format\"].str.strip()\n",
    "df[\"title\"] = df[\"title\"].str.strip()"
   ]
  },
  {
   "cell_type": "code",
   "execution_count": 21,
   "metadata": {},
   "outputs": [
    {
     "data": {
      "text/plain": [
       "9     457\n",
       "8     439\n",
       "10    434\n",
       "4     405\n",
       "11    382\n",
       "7     377\n",
       "6     370\n",
       "12    353\n",
       "3     353\n",
       "5     351\n",
       "13    287\n",
       "2     260\n",
       "14    216\n",
       "15    151\n",
       "16    111\n",
       "17    105\n",
       "18     82\n",
       "19     62\n",
       "1      54\n",
       "21     35\n",
       "20     34\n",
       "23     19\n",
       "22     13\n",
       "24     13\n",
       "25      8\n",
       "28      7\n",
       "26      7\n",
       "30      5\n",
       "27      4\n",
       "32      4\n",
       "31      3\n",
       "33      2\n",
       "36      2\n",
       "29      2\n",
       "35      1\n",
       "34      1\n",
       "48      1\n",
       "45      1\n",
       "43      1\n",
       "38      1\n",
       "51      1\n",
       "Name: title_word_count, dtype: int64"
      ]
     },
     "execution_count": 21,
     "metadata": {},
     "output_type": "execute_result"
    }
   ],
   "source": [
    "df[\"title_word_count\"] = df[\"title\"].apply(lambda x: len(str(x).split(\" \")))\n",
    "df[\"title_word_count\"].value_counts()"
   ]
  },
  {
   "cell_type": "code",
   "execution_count": 22,
   "metadata": {},
   "outputs": [
    {
     "data": {
      "text/html": [
       "<div>\n",
       "<style scoped>\n",
       "    .dataframe tbody tr th:only-of-type {\n",
       "        vertical-align: middle;\n",
       "    }\n",
       "\n",
       "    .dataframe tbody tr th {\n",
       "        vertical-align: top;\n",
       "    }\n",
       "\n",
       "    .dataframe thead th {\n",
       "        text-align: right;\n",
       "    }\n",
       "</style>\n",
       "<table border=\"1\" class=\"dataframe\">\n",
       "  <thead>\n",
       "    <tr style=\"text-align: right;\">\n",
       "      <th></th>\n",
       "      <th>advisor</th>\n",
       "      <th>author</th>\n",
       "      <th>project_format</th>\n",
       "      <th>title</th>\n",
       "      <th>year</th>\n",
       "      <th>title_word_count</th>\n",
       "    </tr>\n",
       "  </thead>\n",
       "  <tbody>\n",
       "    <tr>\n",
       "      <th>5339</th>\n",
       "      <td>Belkin, Lisa</td>\n",
       "      <td>Moazami, Yassaman</td>\n",
       "      <td>Print</td>\n",
       "      <td>The Perfect Muslim: Beneath The Hijab. Blending Religion And Style. A Look At How Many Muslim Women Feel About Wearing The Hijab, And Gaining More Representation In Mainstream Fashion. No Doubt A Woman'S Hijab Is An External Sign Of Her Religion, But The Strength Of Her Faith Comes From Her Inner-Self</td>\n",
       "      <td>2017</td>\n",
       "      <td>51</td>\n",
       "    </tr>\n",
       "  </tbody>\n",
       "</table>\n",
       "</div>"
      ],
      "text/plain": [
       "           advisor             author project_format                                                                                                                                                                                                                                                                                                           title  year  title_word_count\n",
       "5339  Belkin, Lisa  Moazami, Yassaman          Print  The Perfect Muslim: Beneath The Hijab. Blending Religion And Style. A Look At How Many Muslim Women Feel About Wearing The Hijab, And Gaining More Representation In Mainstream Fashion. No Doubt A Woman'S Hijab Is An External Sign Of Her Religion, But The Strength Of Her Faith Comes From Her Inner-Self  2017                51"
      ]
     },
     "execution_count": 22,
     "metadata": {},
     "output_type": "execute_result"
    }
   ],
   "source": [
    "df[df[\"title_word_count\"] == 51]"
   ]
  },
  {
   "cell_type": "code",
   "execution_count": 55,
   "metadata": {},
   "outputs": [],
   "source": [
    "df[\"title_clean\"] = df[\"title\"].str.lower().astype(str)"
   ]
  },
  {
   "cell_type": "code",
   "execution_count": 56,
   "metadata": {},
   "outputs": [],
   "source": [
    "df[\"title_clean\"] = df[\"title_clean\"].str.replace('[^\\w\\s]','')"
   ]
  },
  {
   "cell_type": "code",
   "execution_count": 59,
   "metadata": {},
   "outputs": [
    {
     "data": {
      "text/plain": [
       "0                                        decline garment district\n",
       "1                                               women behind bars\n",
       "2      brazucas new york struggles fragmented brazilian community\n",
       "3    privatization services new york city parks case study queens\n",
       "4                               palestinian americans peace talks\n",
       "Name: title_clean, dtype: object"
      ]
     },
     "execution_count": 59,
     "metadata": {},
     "output_type": "execute_result"
    }
   ],
   "source": [
    "stop = stopwords.words('english')\n",
    "df[\"title_clean\"] = df[\"title_clean\"].apply(lambda x: \" \".join(x for x in x.split() if x not in stop))\n",
    "df[\"title_clean\"].head()"
   ]
  },
  {
   "cell_type": "code",
   "execution_count": 79,
   "metadata": {},
   "outputs": [
    {
     "data": {
      "text/html": [
       "<div>\n",
       "<style scoped>\n",
       "    .dataframe tbody tr th:only-of-type {\n",
       "        vertical-align: middle;\n",
       "    }\n",
       "\n",
       "    .dataframe tbody tr th {\n",
       "        vertical-align: top;\n",
       "    }\n",
       "\n",
       "    .dataframe thead th {\n",
       "        text-align: right;\n",
       "    }\n",
       "</style>\n",
       "<table border=\"1\" class=\"dataframe\">\n",
       "  <thead>\n",
       "    <tr style=\"text-align: right;\">\n",
       "      <th></th>\n",
       "      <th>index</th>\n",
       "      <th>0</th>\n",
       "    </tr>\n",
       "  </thead>\n",
       "  <tbody>\n",
       "    <tr>\n",
       "      <th>0</th>\n",
       "      <td>new</td>\n",
       "      <td>47</td>\n",
       "    </tr>\n",
       "    <tr>\n",
       "      <th>1</th>\n",
       "      <td>york</td>\n",
       "      <td>26</td>\n",
       "    </tr>\n",
       "    <tr>\n",
       "      <th>2</th>\n",
       "      <td>women</td>\n",
       "      <td>16</td>\n",
       "    </tr>\n",
       "    <tr>\n",
       "      <th>3</th>\n",
       "      <td>city</td>\n",
       "      <td>9</td>\n",
       "    </tr>\n",
       "    <tr>\n",
       "      <th>4</th>\n",
       "      <td>lives</td>\n",
       "      <td>8</td>\n",
       "    </tr>\n",
       "    <tr>\n",
       "      <th>5</th>\n",
       "      <td>one</td>\n",
       "      <td>8</td>\n",
       "    </tr>\n",
       "    <tr>\n",
       "      <th>6</th>\n",
       "      <td>public</td>\n",
       "      <td>7</td>\n",
       "    </tr>\n",
       "    <tr>\n",
       "      <th>7</th>\n",
       "      <td>yorks</td>\n",
       "      <td>7</td>\n",
       "    </tr>\n",
       "    <tr>\n",
       "      <th>8</th>\n",
       "      <td>political</td>\n",
       "      <td>6</td>\n",
       "    </tr>\n",
       "    <tr>\n",
       "      <th>9</th>\n",
       "      <td>death</td>\n",
       "      <td>6</td>\n",
       "    </tr>\n",
       "  </tbody>\n",
       "</table>\n",
       "</div>"
      ],
      "text/plain": [
       "       index   0\n",
       "0        new  47\n",
       "1       york  26\n",
       "2      women  16\n",
       "3       city   9\n",
       "4      lives   8\n",
       "5        one   8\n",
       "6     public   7\n",
       "7      yorks   7\n",
       "8  political   6\n",
       "9      death   6"
      ]
     },
     "execution_count": 79,
     "metadata": {},
     "output_type": "execute_result"
    }
   ],
   "source": [
    "freq = pd.Series(' '.join(df[df.year == 1997][\"title_clean\"]).split()).value_counts()[:10].reset_index()"
   ]
  },
  {
   "cell_type": "code",
   "execution_count": 113,
   "metadata": {},
   "outputs": [],
   "source": [
    "df_freq_wide = pd.DataFrame()\n",
    "for i in range(1995, 2018):\n",
    "    freq = pd.Series(' '.join(df[df.year == i][\"title_clean\"]).split()).value_counts()[:10].reset_index()\n",
    "    column_name = str(i) + \"_count\"\n",
    "    freq.rename(columns = {\"index\" : i, 0 : column_name}, inplace = True)\n",
    "\n",
    "    df_freq_wide = pd.concat([df_freq, freq], axis = 1, sort = False)\n",
    "df_freq_wide.to_csv(\"word_freq_wide.csv\", index = False)"
   ]
  },
  {
   "cell_type": "code",
   "execution_count": 114,
   "metadata": {},
   "outputs": [],
   "source": [
    "df_freq_long = pd.DataFrame()\n",
    "for i in range(1995, 2018):\n",
    "    freq = pd.Series(' '.join(df[df.year == i][\"title_clean\"]).split()).value_counts()[:10].reset_index()\n",
    "    freq[\"year\"] = i\n",
    "    \n",
    "    df_freq_long = df_freq_long.append(freq, ignore_index = True, sort = False)\n",
    "df_freq_long.to_csv(\"word_freq_long.csv\", index = False)"
   ]
  },
  {
   "cell_type": "code",
   "execution_count": 115,
   "metadata": {},
   "outputs": [],
   "source": [
    "df.to_csv(\"projects_all_somewhat_clean.csv\", index = False)"
   ]
  },
  {
   "cell_type": "code",
   "execution_count": null,
   "metadata": {},
   "outputs": [],
   "source": []
  }
 ],
 "metadata": {
  "kernelspec": {
   "display_name": "Python 3",
   "language": "python",
   "name": "python3"
  },
  "language_info": {
   "codemirror_mode": {
    "name": "ipython",
    "version": 3
   },
   "file_extension": ".py",
   "mimetype": "text/x-python",
   "name": "python",
   "nbconvert_exporter": "python",
   "pygments_lexer": "ipython3",
   "version": "3.6.5"
  }
 },
 "nbformat": 4,
 "nbformat_minor": 2
}
