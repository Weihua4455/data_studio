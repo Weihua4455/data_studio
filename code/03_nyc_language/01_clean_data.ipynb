{
 "cells": [
  {
   "cell_type": "code",
   "execution_count": 1,
   "metadata": {},
   "outputs": [],
   "source": [
    "import pandas as pd\n",
    "\n",
    "import re"
   ]
  },
  {
   "cell_type": "code",
   "execution_count": 2,
   "metadata": {},
   "outputs": [],
   "source": [
    "df = pd.read_csv(\"census_data\\detailed_2015\\ACS_15_5YR_B16001_with_ann.csv\")"
   ]
  },
  {
   "cell_type": "code",
   "execution_count": 3,
   "metadata": {},
   "outputs": [
    {
     "data": {
      "text/plain": [
       "(2168, 241)"
      ]
     },
     "execution_count": 3,
     "metadata": {},
     "output_type": "execute_result"
    }
   ],
   "source": [
    "df.shape"
   ]
  },
  {
   "cell_type": "code",
   "execution_count": 4,
   "metadata": {},
   "outputs": [
    {
     "data": {
      "text/html": [
       "<div>\n",
       "<style scoped>\n",
       "    .dataframe tbody tr th:only-of-type {\n",
       "        vertical-align: middle;\n",
       "    }\n",
       "\n",
       "    .dataframe tbody tr th {\n",
       "        vertical-align: top;\n",
       "    }\n",
       "\n",
       "    .dataframe thead th {\n",
       "        text-align: right;\n",
       "    }\n",
       "</style>\n",
       "<table border=\"1\" class=\"dataframe\">\n",
       "  <thead>\n",
       "    <tr style=\"text-align: right;\">\n",
       "      <th></th>\n",
       "      <th>GEO.id</th>\n",
       "      <th>GEO.id2</th>\n",
       "      <th>GEO.display-label</th>\n",
       "      <th>HD01_VD01</th>\n",
       "      <th>HD02_VD01</th>\n",
       "      <th>HD01_VD02</th>\n",
       "      <th>HD02_VD02</th>\n",
       "      <th>HD01_VD03</th>\n",
       "      <th>HD02_VD03</th>\n",
       "      <th>HD01_VD04</th>\n",
       "      <th>...</th>\n",
       "      <th>HD01_VD115</th>\n",
       "      <th>HD02_VD115</th>\n",
       "      <th>HD01_VD116</th>\n",
       "      <th>HD02_VD116</th>\n",
       "      <th>HD01_VD117</th>\n",
       "      <th>HD02_VD117</th>\n",
       "      <th>HD01_VD118</th>\n",
       "      <th>HD02_VD118</th>\n",
       "      <th>HD01_VD119</th>\n",
       "      <th>HD02_VD119</th>\n",
       "    </tr>\n",
       "  </thead>\n",
       "  <tbody>\n",
       "    <tr>\n",
       "      <th>0</th>\n",
       "      <td>Id</td>\n",
       "      <td>Id2</td>\n",
       "      <td>Geography</td>\n",
       "      <td>Estimate; Total:</td>\n",
       "      <td>Margin of Error; Total:</td>\n",
       "      <td>Estimate; Total: - Speak only English</td>\n",
       "      <td>Margin of Error; Total: - Speak only English</td>\n",
       "      <td>Estimate; Total: - Spanish or Spanish Creole:</td>\n",
       "      <td>Margin of Error; Total: - Spanish or Spanish C...</td>\n",
       "      <td>Estimate; Total: - Spanish or Spanish Creole: ...</td>\n",
       "      <td>...</td>\n",
       "      <td>Estimate; Total: - African languages: - Speak ...</td>\n",
       "      <td>Margin of Error; Total: - African languages: -...</td>\n",
       "      <td>Estimate; Total: - African languages: - Speak ...</td>\n",
       "      <td>Margin of Error; Total: - African languages: -...</td>\n",
       "      <td>Estimate; Total: - Other and unspecified langu...</td>\n",
       "      <td>Margin of Error; Total: - Other and unspecifie...</td>\n",
       "      <td>Estimate; Total: - Other and unspecified langu...</td>\n",
       "      <td>Margin of Error; Total: - Other and unspecifie...</td>\n",
       "      <td>Estimate; Total: - Other and unspecified langu...</td>\n",
       "      <td>Margin of Error; Total: - Other and unspecifie...</td>\n",
       "    </tr>\n",
       "    <tr>\n",
       "      <th>1</th>\n",
       "      <td>1400000US36005000100</td>\n",
       "      <td>36005000100</td>\n",
       "      <td>Census Tract 1, Bronx County, New York</td>\n",
       "      <td>7703</td>\n",
       "      <td>416</td>\n",
       "      <td>5391</td>\n",
       "      <td>361</td>\n",
       "      <td>2087</td>\n",
       "      <td>210</td>\n",
       "      <td>289</td>\n",
       "      <td>...</td>\n",
       "      <td>0</td>\n",
       "      <td>16</td>\n",
       "      <td>16</td>\n",
       "      <td>21</td>\n",
       "      <td>0</td>\n",
       "      <td>16</td>\n",
       "      <td>0</td>\n",
       "      <td>16</td>\n",
       "      <td>0</td>\n",
       "      <td>16</td>\n",
       "    </tr>\n",
       "    <tr>\n",
       "      <th>2</th>\n",
       "      <td>1400000US36005000200</td>\n",
       "      <td>36005000200</td>\n",
       "      <td>Census Tract 2, Bronx County, New York</td>\n",
       "      <td>5107</td>\n",
       "      <td>592</td>\n",
       "      <td>1546</td>\n",
       "      <td>363</td>\n",
       "      <td>3243</td>\n",
       "      <td>537</td>\n",
       "      <td>1712</td>\n",
       "      <td>...</td>\n",
       "      <td>124</td>\n",
       "      <td>100</td>\n",
       "      <td>34</td>\n",
       "      <td>36</td>\n",
       "      <td>0</td>\n",
       "      <td>16</td>\n",
       "      <td>0</td>\n",
       "      <td>16</td>\n",
       "      <td>0</td>\n",
       "      <td>16</td>\n",
       "    </tr>\n",
       "    <tr>\n",
       "      <th>3</th>\n",
       "      <td>1400000US36005000400</td>\n",
       "      <td>36005000400</td>\n",
       "      <td>Census Tract 4, Bronx County, New York</td>\n",
       "      <td>5540</td>\n",
       "      <td>351</td>\n",
       "      <td>2554</td>\n",
       "      <td>368</td>\n",
       "      <td>2771</td>\n",
       "      <td>356</td>\n",
       "      <td>2034</td>\n",
       "      <td>...</td>\n",
       "      <td>75</td>\n",
       "      <td>88</td>\n",
       "      <td>18</td>\n",
       "      <td>28</td>\n",
       "      <td>0</td>\n",
       "      <td>16</td>\n",
       "      <td>0</td>\n",
       "      <td>16</td>\n",
       "      <td>0</td>\n",
       "      <td>16</td>\n",
       "    </tr>\n",
       "    <tr>\n",
       "      <th>4</th>\n",
       "      <td>1400000US36005001600</td>\n",
       "      <td>36005001600</td>\n",
       "      <td>Census Tract 16, Bronx County, New York</td>\n",
       "      <td>5529</td>\n",
       "      <td>505</td>\n",
       "      <td>1837</td>\n",
       "      <td>333</td>\n",
       "      <td>2956</td>\n",
       "      <td>530</td>\n",
       "      <td>1628</td>\n",
       "      <td>...</td>\n",
       "      <td>503</td>\n",
       "      <td>384</td>\n",
       "      <td>119</td>\n",
       "      <td>78</td>\n",
       "      <td>0</td>\n",
       "      <td>16</td>\n",
       "      <td>0</td>\n",
       "      <td>16</td>\n",
       "      <td>0</td>\n",
       "      <td>16</td>\n",
       "    </tr>\n",
       "  </tbody>\n",
       "</table>\n",
       "<p>5 rows × 241 columns</p>\n",
       "</div>"
      ],
      "text/plain": [
       "                 GEO.id      GEO.id2                        GEO.display-label  \\\n",
       "0                    Id          Id2                                Geography   \n",
       "1  1400000US36005000100  36005000100   Census Tract 1, Bronx County, New York   \n",
       "2  1400000US36005000200  36005000200   Census Tract 2, Bronx County, New York   \n",
       "3  1400000US36005000400  36005000400   Census Tract 4, Bronx County, New York   \n",
       "4  1400000US36005001600  36005001600  Census Tract 16, Bronx County, New York   \n",
       "\n",
       "          HD01_VD01                HD02_VD01  \\\n",
       "0  Estimate; Total:  Margin of Error; Total:   \n",
       "1              7703                      416   \n",
       "2              5107                      592   \n",
       "3              5540                      351   \n",
       "4              5529                      505   \n",
       "\n",
       "                               HD01_VD02  \\\n",
       "0  Estimate; Total: - Speak only English   \n",
       "1                                   5391   \n",
       "2                                   1546   \n",
       "3                                   2554   \n",
       "4                                   1837   \n",
       "\n",
       "                                      HD02_VD02  \\\n",
       "0  Margin of Error; Total: - Speak only English   \n",
       "1                                           361   \n",
       "2                                           363   \n",
       "3                                           368   \n",
       "4                                           333   \n",
       "\n",
       "                                       HD01_VD03  \\\n",
       "0  Estimate; Total: - Spanish or Spanish Creole:   \n",
       "1                                           2087   \n",
       "2                                           3243   \n",
       "3                                           2771   \n",
       "4                                           2956   \n",
       "\n",
       "                                           HD02_VD03  \\\n",
       "0  Margin of Error; Total: - Spanish or Spanish C...   \n",
       "1                                                210   \n",
       "2                                                537   \n",
       "3                                                356   \n",
       "4                                                530   \n",
       "\n",
       "                                           HD01_VD04  \\\n",
       "0  Estimate; Total: - Spanish or Spanish Creole: ...   \n",
       "1                                                289   \n",
       "2                                               1712   \n",
       "3                                               2034   \n",
       "4                                               1628   \n",
       "\n",
       "                         ...                          \\\n",
       "0                        ...                           \n",
       "1                        ...                           \n",
       "2                        ...                           \n",
       "3                        ...                           \n",
       "4                        ...                           \n",
       "\n",
       "                                          HD01_VD115  \\\n",
       "0  Estimate; Total: - African languages: - Speak ...   \n",
       "1                                                  0   \n",
       "2                                                124   \n",
       "3                                                 75   \n",
       "4                                                503   \n",
       "\n",
       "                                          HD02_VD115  \\\n",
       "0  Margin of Error; Total: - African languages: -...   \n",
       "1                                                 16   \n",
       "2                                                100   \n",
       "3                                                 88   \n",
       "4                                                384   \n",
       "\n",
       "                                          HD01_VD116  \\\n",
       "0  Estimate; Total: - African languages: - Speak ...   \n",
       "1                                                 16   \n",
       "2                                                 34   \n",
       "3                                                 18   \n",
       "4                                                119   \n",
       "\n",
       "                                          HD02_VD116  \\\n",
       "0  Margin of Error; Total: - African languages: -...   \n",
       "1                                                 21   \n",
       "2                                                 36   \n",
       "3                                                 28   \n",
       "4                                                 78   \n",
       "\n",
       "                                          HD01_VD117  \\\n",
       "0  Estimate; Total: - Other and unspecified langu...   \n",
       "1                                                  0   \n",
       "2                                                  0   \n",
       "3                                                  0   \n",
       "4                                                  0   \n",
       "\n",
       "                                          HD02_VD117  \\\n",
       "0  Margin of Error; Total: - Other and unspecifie...   \n",
       "1                                                 16   \n",
       "2                                                 16   \n",
       "3                                                 16   \n",
       "4                                                 16   \n",
       "\n",
       "                                          HD01_VD118  \\\n",
       "0  Estimate; Total: - Other and unspecified langu...   \n",
       "1                                                  0   \n",
       "2                                                  0   \n",
       "3                                                  0   \n",
       "4                                                  0   \n",
       "\n",
       "                                          HD02_VD118  \\\n",
       "0  Margin of Error; Total: - Other and unspecifie...   \n",
       "1                                                 16   \n",
       "2                                                 16   \n",
       "3                                                 16   \n",
       "4                                                 16   \n",
       "\n",
       "                                          HD01_VD119  \\\n",
       "0  Estimate; Total: - Other and unspecified langu...   \n",
       "1                                                  0   \n",
       "2                                                  0   \n",
       "3                                                  0   \n",
       "4                                                  0   \n",
       "\n",
       "                                          HD02_VD119  \n",
       "0  Margin of Error; Total: - Other and unspecifie...  \n",
       "1                                                 16  \n",
       "2                                                 16  \n",
       "3                                                 16  \n",
       "4                                                 16  \n",
       "\n",
       "[5 rows x 241 columns]"
      ]
     },
     "execution_count": 4,
     "metadata": {},
     "output_type": "execute_result"
    }
   ],
   "source": [
    "df.head()"
   ]
  },
  {
   "cell_type": "code",
   "execution_count": 5,
   "metadata": {},
   "outputs": [],
   "source": [
    "df1 = pd.read_csv(\"census_data\\detailed_2015\\ACS_15_5YR_B16001_metadata.csv\")"
   ]
  },
  {
   "cell_type": "code",
   "execution_count": 6,
   "metadata": {},
   "outputs": [],
   "source": [
    "margin = df1[df1.Id.str.contains(\"Margin of Error\")][\"GEO.id\"].tolist()"
   ]
  },
  {
   "cell_type": "code",
   "execution_count": 7,
   "metadata": {},
   "outputs": [
    {
     "data": {
      "text/plain": [
       "119"
      ]
     },
     "execution_count": 7,
     "metadata": {},
     "output_type": "execute_result"
    }
   ],
   "source": [
    "len(margin)"
   ]
  },
  {
   "cell_type": "code",
   "execution_count": 8,
   "metadata": {},
   "outputs": [],
   "source": [
    "very_well = df1[df1.Id.str.contains(\"very well\") & ~df1.Id.str.contains(\"Margin of Error\") & ~df1.Id.str.contains(\"less than\")][\"GEO.id\"].tolist()"
   ]
  },
  {
   "cell_type": "code",
   "execution_count": 9,
   "metadata": {},
   "outputs": [],
   "source": [
    "df.drop(columns = margin, inplace = True)"
   ]
  },
  {
   "cell_type": "code",
   "execution_count": 10,
   "metadata": {},
   "outputs": [],
   "source": [
    "df.drop(columns = very_well, inplace = True)"
   ]
  },
  {
   "cell_type": "code",
   "execution_count": 11,
   "metadata": {},
   "outputs": [
    {
     "data": {
      "text/plain": [
       "(2168, 83)"
      ]
     },
     "execution_count": 11,
     "metadata": {},
     "output_type": "execute_result"
    }
   ],
   "source": [
    "df.shape"
   ]
  },
  {
   "cell_type": "code",
   "execution_count": 12,
   "metadata": {},
   "outputs": [],
   "source": [
    "df.iloc[0] = df.iloc[0].str.replace(\"Estimate; Total: - \", \"\")"
   ]
  },
  {
   "cell_type": "code",
   "execution_count": 13,
   "metadata": {},
   "outputs": [],
   "source": [
    "df.iloc[0] = df.iloc[0].str.replace(\": - Speak English less than \\\"very well\\\"\", \" LEP\")"
   ]
  },
  {
   "cell_type": "code",
   "execution_count": 14,
   "metadata": {},
   "outputs": [],
   "source": [
    "df.iloc[0] = df.iloc[0].str.replace(\":\", \"\")"
   ]
  },
  {
   "cell_type": "code",
   "execution_count": 15,
   "metadata": {},
   "outputs": [],
   "source": [
    "df.iloc[0] = df.iloc[0].str.replace(\"Estimate; \", \"\")"
   ]
  },
  {
   "cell_type": "code",
   "execution_count": 16,
   "metadata": {},
   "outputs": [],
   "source": [
    "df.iloc[0] = df.iloc[0].str.replace(\"Speak only \", \"\")"
   ]
  },
  {
   "cell_type": "code",
   "execution_count": 17,
   "metadata": {},
   "outputs": [],
   "source": [
    "header = df.iloc[0]\n",
    "\n",
    "df = df[1:]"
   ]
  },
  {
   "cell_type": "code",
   "execution_count": 18,
   "metadata": {},
   "outputs": [],
   "source": [
    "df.rename(columns = header, inplace = True)"
   ]
  },
  {
   "cell_type": "code",
   "execution_count": 19,
   "metadata": {},
   "outputs": [],
   "source": [
    "df[\"county\"] = df[\"Geography\"].str.extract(r\",(.*), New York\")"
   ]
  },
  {
   "cell_type": "code",
   "execution_count": 20,
   "metadata": {},
   "outputs": [],
   "source": [
    "column_names = list(df)[3:-1]"
   ]
  },
  {
   "cell_type": "code",
   "execution_count": 21,
   "metadata": {},
   "outputs": [],
   "source": [
    "for name in column_names:\n",
    "    df[name] = df[name].astype(str).astype(int)"
   ]
  },
  {
   "cell_type": "code",
   "execution_count": 22,
   "metadata": {},
   "outputs": [],
   "source": [
    "df.set_index(\"Id\", inplace = True)"
   ]
  },
  {
   "cell_type": "code",
   "execution_count": 23,
   "metadata": {},
   "outputs": [
    {
     "data": {
      "text/html": [
       "<div>\n",
       "<style scoped>\n",
       "    .dataframe tbody tr th:only-of-type {\n",
       "        vertical-align: middle;\n",
       "    }\n",
       "\n",
       "    .dataframe tbody tr th {\n",
       "        vertical-align: top;\n",
       "    }\n",
       "\n",
       "    .dataframe thead th {\n",
       "        text-align: right;\n",
       "    }\n",
       "</style>\n",
       "<table border=\"1\" class=\"dataframe\">\n",
       "  <thead>\n",
       "    <tr style=\"text-align: right;\">\n",
       "      <th></th>\n",
       "      <th>Id2</th>\n",
       "      <th>Geography</th>\n",
       "      <th>Total</th>\n",
       "      <th>English</th>\n",
       "      <th>Spanish or Spanish Creole</th>\n",
       "      <th>Spanish or Spanish Creole LEP</th>\n",
       "      <th>French (incl. Patois, Cajun)</th>\n",
       "      <th>French (incl. Patois, Cajun) LEP</th>\n",
       "      <th>French Creole</th>\n",
       "      <th>French Creole LEP</th>\n",
       "      <th>...</th>\n",
       "      <th>Hungarian LEP</th>\n",
       "      <th>Arabic</th>\n",
       "      <th>Arabic LEP</th>\n",
       "      <th>Hebrew</th>\n",
       "      <th>Hebrew LEP</th>\n",
       "      <th>African languages</th>\n",
       "      <th>African languages LEP</th>\n",
       "      <th>Other and unspecified languages</th>\n",
       "      <th>Other and unspecified languages LEP</th>\n",
       "      <th>county</th>\n",
       "    </tr>\n",
       "    <tr>\n",
       "      <th>Id</th>\n",
       "      <th></th>\n",
       "      <th></th>\n",
       "      <th></th>\n",
       "      <th></th>\n",
       "      <th></th>\n",
       "      <th></th>\n",
       "      <th></th>\n",
       "      <th></th>\n",
       "      <th></th>\n",
       "      <th></th>\n",
       "      <th></th>\n",
       "      <th></th>\n",
       "      <th></th>\n",
       "      <th></th>\n",
       "      <th></th>\n",
       "      <th></th>\n",
       "      <th></th>\n",
       "      <th></th>\n",
       "      <th></th>\n",
       "      <th></th>\n",
       "      <th></th>\n",
       "    </tr>\n",
       "  </thead>\n",
       "  <tbody>\n",
       "    <tr>\n",
       "      <th>1400000US36005000100</th>\n",
       "      <td>36005000100</td>\n",
       "      <td>Census Tract 1, Bronx County, New York</td>\n",
       "      <td>7703</td>\n",
       "      <td>5391</td>\n",
       "      <td>2087</td>\n",
       "      <td>1798</td>\n",
       "      <td>7</td>\n",
       "      <td>7</td>\n",
       "      <td>31</td>\n",
       "      <td>31</td>\n",
       "      <td>...</td>\n",
       "      <td>0</td>\n",
       "      <td>8</td>\n",
       "      <td>8</td>\n",
       "      <td>0</td>\n",
       "      <td>0</td>\n",
       "      <td>16</td>\n",
       "      <td>16</td>\n",
       "      <td>0</td>\n",
       "      <td>0</td>\n",
       "      <td>Bronx County</td>\n",
       "    </tr>\n",
       "    <tr>\n",
       "      <th>1400000US36005000200</th>\n",
       "      <td>36005000200</td>\n",
       "      <td>Census Tract 2, Bronx County, New York</td>\n",
       "      <td>5107</td>\n",
       "      <td>1546</td>\n",
       "      <td>3243</td>\n",
       "      <td>1531</td>\n",
       "      <td>0</td>\n",
       "      <td>0</td>\n",
       "      <td>0</td>\n",
       "      <td>0</td>\n",
       "      <td>...</td>\n",
       "      <td>0</td>\n",
       "      <td>0</td>\n",
       "      <td>0</td>\n",
       "      <td>0</td>\n",
       "      <td>0</td>\n",
       "      <td>158</td>\n",
       "      <td>34</td>\n",
       "      <td>0</td>\n",
       "      <td>0</td>\n",
       "      <td>Bronx County</td>\n",
       "    </tr>\n",
       "    <tr>\n",
       "      <th>1400000US36005000400</th>\n",
       "      <td>36005000400</td>\n",
       "      <td>Census Tract 4, Bronx County, New York</td>\n",
       "      <td>5540</td>\n",
       "      <td>2554</td>\n",
       "      <td>2771</td>\n",
       "      <td>737</td>\n",
       "      <td>103</td>\n",
       "      <td>29</td>\n",
       "      <td>11</td>\n",
       "      <td>0</td>\n",
       "      <td>...</td>\n",
       "      <td>0</td>\n",
       "      <td>0</td>\n",
       "      <td>0</td>\n",
       "      <td>0</td>\n",
       "      <td>0</td>\n",
       "      <td>93</td>\n",
       "      <td>18</td>\n",
       "      <td>0</td>\n",
       "      <td>0</td>\n",
       "      <td>Bronx County</td>\n",
       "    </tr>\n",
       "    <tr>\n",
       "      <th>1400000US36005001600</th>\n",
       "      <td>36005001600</td>\n",
       "      <td>Census Tract 16, Bronx County, New York</td>\n",
       "      <td>5529</td>\n",
       "      <td>1837</td>\n",
       "      <td>2956</td>\n",
       "      <td>1328</td>\n",
       "      <td>94</td>\n",
       "      <td>62</td>\n",
       "      <td>11</td>\n",
       "      <td>9</td>\n",
       "      <td>...</td>\n",
       "      <td>0</td>\n",
       "      <td>0</td>\n",
       "      <td>0</td>\n",
       "      <td>0</td>\n",
       "      <td>0</td>\n",
       "      <td>622</td>\n",
       "      <td>119</td>\n",
       "      <td>0</td>\n",
       "      <td>0</td>\n",
       "      <td>Bronx County</td>\n",
       "    </tr>\n",
       "    <tr>\n",
       "      <th>1400000US36005001900</th>\n",
       "      <td>36005001900</td>\n",
       "      <td>Census Tract 19, Bronx County, New York</td>\n",
       "      <td>2376</td>\n",
       "      <td>977</td>\n",
       "      <td>1191</td>\n",
       "      <td>523</td>\n",
       "      <td>55</td>\n",
       "      <td>4</td>\n",
       "      <td>22</td>\n",
       "      <td>17</td>\n",
       "      <td>...</td>\n",
       "      <td>0</td>\n",
       "      <td>0</td>\n",
       "      <td>0</td>\n",
       "      <td>0</td>\n",
       "      <td>0</td>\n",
       "      <td>5</td>\n",
       "      <td>3</td>\n",
       "      <td>0</td>\n",
       "      <td>0</td>\n",
       "      <td>Bronx County</td>\n",
       "    </tr>\n",
       "  </tbody>\n",
       "</table>\n",
       "<p>5 rows × 83 columns</p>\n",
       "</div>"
      ],
      "text/plain": [
       "                              Id2                                Geography  \\\n",
       "Id                                                                           \n",
       "1400000US36005000100  36005000100   Census Tract 1, Bronx County, New York   \n",
       "1400000US36005000200  36005000200   Census Tract 2, Bronx County, New York   \n",
       "1400000US36005000400  36005000400   Census Tract 4, Bronx County, New York   \n",
       "1400000US36005001600  36005001600  Census Tract 16, Bronx County, New York   \n",
       "1400000US36005001900  36005001900  Census Tract 19, Bronx County, New York   \n",
       "\n",
       "                      Total  English  Spanish or Spanish Creole  \\\n",
       "Id                                                                \n",
       "1400000US36005000100   7703     5391                       2087   \n",
       "1400000US36005000200   5107     1546                       3243   \n",
       "1400000US36005000400   5540     2554                       2771   \n",
       "1400000US36005001600   5529     1837                       2956   \n",
       "1400000US36005001900   2376      977                       1191   \n",
       "\n",
       "                      Spanish or Spanish Creole LEP  \\\n",
       "Id                                                    \n",
       "1400000US36005000100                           1798   \n",
       "1400000US36005000200                           1531   \n",
       "1400000US36005000400                            737   \n",
       "1400000US36005001600                           1328   \n",
       "1400000US36005001900                            523   \n",
       "\n",
       "                      French (incl. Patois, Cajun)  \\\n",
       "Id                                                   \n",
       "1400000US36005000100                             7   \n",
       "1400000US36005000200                             0   \n",
       "1400000US36005000400                           103   \n",
       "1400000US36005001600                            94   \n",
       "1400000US36005001900                            55   \n",
       "\n",
       "                      French (incl. Patois, Cajun) LEP  French Creole  \\\n",
       "Id                                                                      \n",
       "1400000US36005000100                                 7             31   \n",
       "1400000US36005000200                                 0              0   \n",
       "1400000US36005000400                                29             11   \n",
       "1400000US36005001600                                62             11   \n",
       "1400000US36005001900                                 4             22   \n",
       "\n",
       "                      French Creole LEP      ...        Hungarian LEP  Arabic  \\\n",
       "Id                                           ...                                \n",
       "1400000US36005000100                 31      ...                    0       8   \n",
       "1400000US36005000200                  0      ...                    0       0   \n",
       "1400000US36005000400                  0      ...                    0       0   \n",
       "1400000US36005001600                  9      ...                    0       0   \n",
       "1400000US36005001900                 17      ...                    0       0   \n",
       "\n",
       "                      Arabic LEP  Hebrew  Hebrew LEP  African languages  \\\n",
       "Id                                                                        \n",
       "1400000US36005000100           8       0           0                 16   \n",
       "1400000US36005000200           0       0           0                158   \n",
       "1400000US36005000400           0       0           0                 93   \n",
       "1400000US36005001600           0       0           0                622   \n",
       "1400000US36005001900           0       0           0                  5   \n",
       "\n",
       "                      African languages LEP  Other and unspecified languages  \\\n",
       "Id                                                                             \n",
       "1400000US36005000100                     16                                0   \n",
       "1400000US36005000200                     34                                0   \n",
       "1400000US36005000400                     18                                0   \n",
       "1400000US36005001600                    119                                0   \n",
       "1400000US36005001900                      3                                0   \n",
       "\n",
       "                      Other and unspecified languages LEP         county  \n",
       "Id                                                                        \n",
       "1400000US36005000100                                    0   Bronx County  \n",
       "1400000US36005000200                                    0   Bronx County  \n",
       "1400000US36005000400                                    0   Bronx County  \n",
       "1400000US36005001600                                    0   Bronx County  \n",
       "1400000US36005001900                                    0   Bronx County  \n",
       "\n",
       "[5 rows x 83 columns]"
      ]
     },
     "execution_count": 23,
     "metadata": {},
     "output_type": "execute_result"
    }
   ],
   "source": [
    "df.head()"
   ]
  },
  {
   "cell_type": "code",
   "execution_count": 24,
   "metadata": {},
   "outputs": [],
   "source": [
    "df.drop(columns = [\"Id2\", \"Geography\"], inplace = True)"
   ]
  },
  {
   "cell_type": "code",
   "execution_count": 25,
   "metadata": {},
   "outputs": [],
   "source": [
    "df.to_csv(\"language_clean.csv\")"
   ]
  },
  {
   "cell_type": "markdown",
   "metadata": {},
   "source": [
    "## Most spoken language"
   ]
  },
  {
   "cell_type": "code",
   "execution_count": 33,
   "metadata": {},
   "outputs": [],
   "source": [
    "column_names2 = list(df)[1:-1]\n",
    "df[column_names2].idxmax(axis=1).reset_index().to_csv(\"incl_en.csv\", index = False)"
   ]
  },
  {
   "cell_type": "markdown",
   "metadata": {},
   "source": [
    "## Most spoken language other than English"
   ]
  },
  {
   "cell_type": "code",
   "execution_count": 32,
   "metadata": {},
   "outputs": [],
   "source": [
    "column_names3 = list(df)[2:-1]\n",
    "df[column_names3].idxmax(axis=1).reset_index().to_csv(\"not_en.csv\", index = False)"
   ]
  },
  {
   "cell_type": "markdown",
   "metadata": {},
   "source": [
    "## Most spoken language other than English and Spanish"
   ]
  },
  {
   "cell_type": "code",
   "execution_count": 31,
   "metadata": {},
   "outputs": [],
   "source": [
    "column_names3 = list(df)[4:-1]\n",
    "df[column_names3].idxmax(axis=1).reset_index().to_csv(\"not_ensp.csv\", index = False)"
   ]
  },
  {
   "cell_type": "code",
   "execution_count": null,
   "metadata": {},
   "outputs": [],
   "source": []
  },
  {
   "cell_type": "code",
   "execution_count": null,
   "metadata": {},
   "outputs": [],
   "source": []
  },
  {
   "cell_type": "code",
   "execution_count": null,
   "metadata": {},
   "outputs": [],
   "source": []
  },
  {
   "cell_type": "code",
   "execution_count": null,
   "metadata": {},
   "outputs": [],
   "source": []
  }
 ],
 "metadata": {
  "kernelspec": {
   "display_name": "Python 3",
   "language": "python",
   "name": "python3"
  },
  "language_info": {
   "codemirror_mode": {
    "name": "ipython",
    "version": 3
   },
   "file_extension": ".py",
   "mimetype": "text/x-python",
   "name": "python",
   "nbconvert_exporter": "python",
   "pygments_lexer": "ipython3",
   "version": "3.6.5"
  }
 },
 "nbformat": 4,
 "nbformat_minor": 2
}
