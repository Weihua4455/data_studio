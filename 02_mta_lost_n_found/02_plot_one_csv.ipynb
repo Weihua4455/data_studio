{
 "cells": [
  {
   "cell_type": "code",
   "execution_count": 21,
   "metadata": {},
   "outputs": [],
   "source": [
    "import pandas as pd\n",
    "\n",
    "%matplotlib inline\n",
    "\n",
    "import matplotlib.pyplot as plt\n",
    "from cycler import cycler\n"
   ]
  },
  {
   "cell_type": "code",
   "execution_count": 5,
   "metadata": {},
   "outputs": [],
   "source": [
    "df = pd.read_csv(\"mta_7_17_4.csv\")"
   ]
  },
  {
   "cell_type": "code",
   "execution_count": 6,
   "metadata": {},
   "outputs": [],
   "source": [
    "top_ten = df[(df.group != \"NumberOfItemsclaimed\") & (df.group != \"NumberOfLostArticles\")].sort_values(\"amount\", ascending = False).head(10)"
   ]
  },
  {
   "cell_type": "code",
   "execution_count": 10,
   "metadata": {},
   "outputs": [
    {
     "data": {
      "text/html": [
       "<div>\n",
       "<style scoped>\n",
       "    .dataframe tbody tr th:only-of-type {\n",
       "        vertical-align: middle;\n",
       "    }\n",
       "\n",
       "    .dataframe tbody tr th {\n",
       "        vertical-align: top;\n",
       "    }\n",
       "\n",
       "    .dataframe thead th {\n",
       "        text-align: right;\n",
       "    }\n",
       "</style>\n",
       "<table border=\"1\" class=\"dataframe\">\n",
       "  <thead>\n",
       "    <tr style=\"text-align: right;\">\n",
       "      <th></th>\n",
       "      <th>amount</th>\n",
       "      <th>group</th>\n",
       "      <th>item</th>\n",
       "    </tr>\n",
       "  </thead>\n",
       "  <tbody>\n",
       "    <tr>\n",
       "      <th>45</th>\n",
       "      <td>55151</td>\n",
       "      <td>Tickets</td>\n",
       "      <td>MTA Metrocard</td>\n",
       "    </tr>\n",
       "    <tr>\n",
       "      <th>178</th>\n",
       "      <td>50891</td>\n",
       "      <td>Cell Phone/Telephone/Communication Device</td>\n",
       "      <td>Cell phone</td>\n",
       "    </tr>\n",
       "    <tr>\n",
       "      <th>139</th>\n",
       "      <td>49498</td>\n",
       "      <td>Wallet/Purse</td>\n",
       "      <td>Wallet</td>\n",
       "    </tr>\n",
       "    <tr>\n",
       "      <th>187</th>\n",
       "      <td>46299</td>\n",
       "      <td>Identification</td>\n",
       "      <td>Debit Card</td>\n",
       "    </tr>\n",
       "    <tr>\n",
       "      <th>67</th>\n",
       "      <td>44772</td>\n",
       "      <td>Currency</td>\n",
       "      <td>Cash</td>\n",
       "    </tr>\n",
       "    <tr>\n",
       "      <th>167</th>\n",
       "      <td>33471</td>\n",
       "      <td>Miscellaneous</td>\n",
       "      <td>All Other Misc Items</td>\n",
       "    </tr>\n",
       "    <tr>\n",
       "      <th>193</th>\n",
       "      <td>25014</td>\n",
       "      <td>Identification</td>\n",
       "      <td>Credit Card</td>\n",
       "    </tr>\n",
       "    <tr>\n",
       "      <th>202</th>\n",
       "      <td>21561</td>\n",
       "      <td>Identification</td>\n",
       "      <td>Drivers License</td>\n",
       "    </tr>\n",
       "    <tr>\n",
       "      <th>192</th>\n",
       "      <td>19347</td>\n",
       "      <td>Identification</td>\n",
       "      <td>School ID</td>\n",
       "    </tr>\n",
       "    <tr>\n",
       "      <th>118</th>\n",
       "      <td>19290</td>\n",
       "      <td>Carry Bag / Luggage</td>\n",
       "      <td>Shopping bag</td>\n",
       "    </tr>\n",
       "  </tbody>\n",
       "</table>\n",
       "</div>"
      ],
      "text/plain": [
       "     amount                                      group                   item\n",
       "45    55151                                    Tickets          MTA Metrocard\n",
       "178   50891  Cell Phone/Telephone/Communication Device            Cell phone \n",
       "139   49498                               Wallet/Purse                 Wallet\n",
       "187   46299                             Identification             Debit Card\n",
       "67    44772                                   Currency                   Cash\n",
       "167   33471                              Miscellaneous  All Other Misc Items \n",
       "193   25014                             Identification            Credit Card\n",
       "202   21561                             Identification        Drivers License\n",
       "192   19347                             Identification              School ID\n",
       "118   19290                        Carry Bag / Luggage           Shopping bag"
      ]
     },
     "execution_count": 10,
     "metadata": {},
     "output_type": "execute_result"
    }
   ],
   "source": [
    "top_ten"
   ]
  },
  {
   "cell_type": "code",
   "execution_count": 29,
   "metadata": {},
   "outputs": [],
   "source": [
    "plt.rcdefaults()\n",
    "plt.rcParams.update({\n",
    "    'pdf.fonttype': 42,\n",
    "    'ps.fonttype': 42,\n",
    "    'xtick.major.size': 0,\n",
    "    'xtick.minor.size': 0,\n",
    "    'ytick.major.size': 0,\n",
    "    'ytick.minor.size': 0,\n",
    "    \n",
    "    \"font.family\" : \"sans-serif\",\n",
    "\n",
    "## Make it MBTA colors\n",
    "    \n",
    "    \"axes.prop_cycle\"   : cycler('color', ['#C80000', '#FE6700', '#11773C', '#00009C', '#8D8787', \"#B60EA0\"]),\n",
    "    \n",
    "    \"axes.axisbelow\"      : True,\n",
    "\n",
    "    \"xtick.minor.visible\"  : False,\n",
    "    \"ytick.minor.visible\"  : False,\n",
    "\n",
    "    \"date.autoformatter.year\"     : \"%Y\",\n",
    "    \"date.autoformatter.month\"    : \"%Y-%M\",\n",
    "    \"date.autoformatter.day\"      : \"%Y-%M-%d\",\n",
    "\n",
    "\n",
    "    \"grid.color\"       :   \"white\",\n",
    "    \"grid.linestyle\"   :   \"dashed\",\n",
    "    \"grid.linewidth\"   :   1,\n",
    "})"
   ]
  },
  {
   "cell_type": "code",
   "execution_count": 2,
   "metadata": {},
   "outputs": [
    {
     "ename": "NameError",
     "evalue": "name 'top_ten' is not defined",
     "output_type": "error",
     "traceback": [
      "\u001b[1;31m---------------------------------------------------------------------------\u001b[0m",
      "\u001b[1;31mNameError\u001b[0m                                 Traceback (most recent call last)",
      "\u001b[1;32m<ipython-input-2-60c7578ce9d7>\u001b[0m in \u001b[0;36m<module>\u001b[1;34m()\u001b[0m\n\u001b[1;32m----> 1\u001b[1;33m \u001b[0max\u001b[0m \u001b[1;33m=\u001b[0m \u001b[0mtop_ten\u001b[0m\u001b[1;33m.\u001b[0m\u001b[0mplot\u001b[0m\u001b[1;33m(\u001b[0m\u001b[0mx\u001b[0m \u001b[1;33m=\u001b[0m \u001b[1;34m\"item\"\u001b[0m\u001b[1;33m,\u001b[0m \u001b[0my\u001b[0m \u001b[1;33m=\u001b[0m \u001b[1;34m\"amount\"\u001b[0m\u001b[1;33m,\u001b[0m \u001b[0mkind\u001b[0m \u001b[1;33m=\u001b[0m \u001b[1;34m\"bar\"\u001b[0m\u001b[1;33m,\u001b[0m \u001b[0mrot\u001b[0m \u001b[1;33m=\u001b[0m \u001b[1;36m0\u001b[0m\u001b[1;33m,\u001b[0m \u001b[0mfigsize\u001b[0m \u001b[1;33m=\u001b[0m \u001b[1;33m(\u001b[0m\u001b[1;36m15\u001b[0m\u001b[1;33m,\u001b[0m \u001b[1;36m5\u001b[0m\u001b[1;33m)\u001b[0m\u001b[1;33m,\u001b[0m \u001b[0mcolor\u001b[0m \u001b[1;33m=\u001b[0m \u001b[1;34m\"brown\"\u001b[0m\u001b[1;33m)\u001b[0m\u001b[1;33m\u001b[0m\u001b[0m\n\u001b[0m\u001b[0;32m      2\u001b[0m \u001b[1;33m\u001b[0m\u001b[0m\n\u001b[0;32m      3\u001b[0m \u001b[0max\u001b[0m\u001b[1;33m.\u001b[0m\u001b[0mset_title\u001b[0m\u001b[1;33m(\u001b[0m\u001b[1;34m\"Top 10 Things People Left on MTA\"\u001b[0m\u001b[1;33m,\u001b[0m \u001b[0mpad\u001b[0m \u001b[1;33m=\u001b[0m \u001b[1;36m40\u001b[0m\u001b[1;33m)\u001b[0m\u001b[1;33m\u001b[0m\u001b[0m\n\u001b[0;32m      4\u001b[0m \u001b[0max\u001b[0m\u001b[1;33m.\u001b[0m\u001b[0mtitle\u001b[0m\u001b[1;33m.\u001b[0m\u001b[0mset_fontsize\u001b[0m\u001b[1;33m(\u001b[0m\u001b[1;36m25\u001b[0m\u001b[1;33m)\u001b[0m\u001b[1;33m\u001b[0m\u001b[0m\n\u001b[0;32m      5\u001b[0m \u001b[1;33m\u001b[0m\u001b[0m\n",
      "\u001b[1;31mNameError\u001b[0m: name 'top_ten' is not defined"
     ]
    }
   ],
   "source": [
    "ax = top_ten.plot(x = \"item\", y = \"amount\", kind = \"bar\", rot = 0, figsize = (15, 5), color = \"brown\")\n",
    "\n",
    "ax.set_title(\"Top 10 Things People Left on MTA\", pad = 40)\n",
    "ax.title.set_fontsize(25)\n",
    "\n",
    "fig = plt.gcf()\n",
    "fig.text(0.5, 0.9, \"As of July 17, 4:30 a.m.\", fontsize = \"xx-large\", ha = \"center\")\n",
    "\n",
    "ax.spines[\"top\"].set_visible(False)\n",
    "ax.spines[\"right\"].set_visible(False)\n",
    "\n",
    "ax.grid(b = None, which = \"major\", axis = \"y\", color = \"darkgrey\", linestyle = \"dashed\")\n",
    "\n",
    "\n",
    "plt.savefig(\"mta_first_draft.pdf\")\n",
    "plt.show()"
   ]
  },
  {
   "cell_type": "code",
   "execution_count": null,
   "metadata": {},
   "outputs": [],
   "source": []
  }
 ],
 "metadata": {
  "kernelspec": {
   "display_name": "Python 3",
   "language": "python",
   "name": "python3"
  },
  "language_info": {
   "codemirror_mode": {
    "name": "ipython",
    "version": 3
   },
   "file_extension": ".py",
   "mimetype": "text/x-python",
   "name": "python",
   "nbconvert_exporter": "python",
   "pygments_lexer": "ipython3",
   "version": "3.6.5"
  }
 },
 "nbformat": 4,
 "nbformat_minor": 2
}
