{
 "cells": [
  {
   "cell_type": "markdown",
   "metadata": {},
   "source": [
    "## What do people lost on MTA?\n",
    "\n",
    "    \n",
    "### Source:\n",
    "#### http://advisory.mtanyct.info/LPUWebServices/CurrentLostProperty.aspx\n",
    "\n",
    "### Inspiration: \n",
    "#### https://fivethirtyeight.com/features/mta-new-york-lost-and-found-subway-most-common/\n",
    "#### https://twitter.com/wallacetim/status/489493293122981888\n",
    "   \n",
    "### Also!\n",
    "#### I saw a rat on the 1 line. It was ~~kinda cute~~ dragging a bag of chips, or what's left of it, down at the track.\n",
    "\n",
    "#### That's when the train pulled in. Part of me hopes that it survived."
   ]
  },
  {
   "cell_type": "code",
   "execution_count": 89,
   "metadata": {},
   "outputs": [],
   "source": [
    "import pandas as pd\n",
    "\n",
    "import requests\n",
    "\n",
    "from bs4 import BeautifulSoup\n",
    "\n",
    "import time\n",
    "import datetime"
   ]
  },
  {
   "cell_type": "code",
   "execution_count": 90,
   "metadata": {},
   "outputs": [],
   "source": [
    "url = \"http://advisory.mtanyct.info/LPUWebServices/CurrentLostProperty.aspx\"\n",
    "\n",
    "xml_data = requests.get(url).content\n",
    "\n",
    "soup= BeautifulSoup(xml_data, \"xml\")\n"
   ]
  },
  {
   "cell_type": "code",
   "execution_count": 124,
   "metadata": {},
   "outputs": [],
   "source": [
    "claimed = soup.find(\"NumberOfItemsclaimed\").text"
   ]
  },
  {
   "cell_type": "code",
   "execution_count": 125,
   "metadata": {},
   "outputs": [],
   "source": [
    "total = soup.find(\"NumberOfLostArticles\").text"
   ]
  },
  {
   "cell_type": "code",
   "execution_count": 126,
   "metadata": {},
   "outputs": [],
   "source": [
    "categories = soup.find_all(\"Category\")\n",
    "item_list = []\n",
    "\n",
    "for category in categories:\n",
    "    group = category[\"Category\"]\n",
    "    \n",
    "    subs = category.find_all(\"SubCategory\")\n",
    "    for sub in subs:\n",
    "        item_dict = {}\n",
    "        \n",
    "        item = sub[\"SubCategory\"]\n",
    "        count = int(sub[\"count\"])\n",
    "        item_dict.update({\n",
    "            \"group\": group, \n",
    "            \"item\": item, \n",
    "            \"amount\": count\n",
    "        })\n",
    "        \n",
    "        item_list.append(item_dict)\n",
    "        \n",
    "item_list.append({\"group\" : \"NumberOfItemsclaimed\", \"item\" : \"N/A\", \"amount\" : claimed})\n",
    "item_list.append({\"group\" : \"NumberOfLostArticles\", \"item\" : \"N/A\", \"amount\" : total})"
   ]
  },
  {
   "cell_type": "code",
   "execution_count": 127,
   "metadata": {},
   "outputs": [],
   "source": [
    "df = pd.DataFrame(item_list)"
   ]
  },
  {
   "cell_type": "code",
   "execution_count": 136,
   "metadata": {},
   "outputs": [],
   "source": [
    "now = datetime.datetime.now()"
   ]
  },
  {
   "cell_type": "code",
   "execution_count": 137,
   "metadata": {},
   "outputs": [],
   "source": [
    "filename = \"mta_\" + str(now.month) + \"_\" + str(now.day) + \"_\" + str(now.hour) + \".csv\""
   ]
  },
  {
   "cell_type": "code",
   "execution_count": 138,
   "metadata": {},
   "outputs": [
    {
     "data": {
      "text/plain": [
       "'mta_7_17_5.csv'"
      ]
     },
     "execution_count": 138,
     "metadata": {},
     "output_type": "execute_result"
    }
   ],
   "source": [
    "filename"
   ]
  },
  {
   "cell_type": "code",
   "execution_count": 131,
   "metadata": {},
   "outputs": [],
   "source": [
    "df.to_csv(filename, index = False)"
   ]
  },
  {
   "cell_type": "markdown",
   "metadata": {},
   "source": [
    "## I will run this code in server -- once/hour to see if the data changes"
   ]
  },
  {
   "cell_type": "code",
   "execution_count": null,
   "metadata": {},
   "outputs": [],
   "source": []
  },
  {
   "cell_type": "code",
   "execution_count": null,
   "metadata": {},
   "outputs": [],
   "source": []
  }
 ],
 "metadata": {
  "kernelspec": {
   "display_name": "Python 3",
   "language": "python",
   "name": "python3"
  },
  "language_info": {
   "codemirror_mode": {
    "name": "ipython",
    "version": 3
   },
   "file_extension": ".py",
   "mimetype": "text/x-python",
   "name": "python",
   "nbconvert_exporter": "python",
   "pygments_lexer": "ipython3",
   "version": "3.6.5"
  }
 },
 "nbformat": 4,
 "nbformat_minor": 2
}
